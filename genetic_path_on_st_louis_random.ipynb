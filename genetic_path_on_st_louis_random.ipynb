{
 "cells": [
  {
   "cell_type": "markdown",
   "metadata": {},
   "source": [
    "City Map"
   ]
  },
  {
   "cell_type": "code",
   "execution_count": 1,
   "metadata": {},
   "outputs": [
    {
     "name": "stdout",
     "output_type": "stream",
     "text": [
      "2.0.2\n"
     ]
    }
   ],
   "source": [
    "import shapely\n",
    "print(shapely.__version__)\n",
    "# print(ig.__version__)\n",
    "\n",
    "import osmnx as ox\n",
    "import networkx as nx\n",
    "import numpy as np\n",
    "import pandas as pd\n",
    "\n",
    "place = 'St. Louis, Missouri, USA'\n",
    "\n",
    "Graph = ox.graph_from_place(place, network_type='drive')\n",
    "\n",
    "nodes, streets = ox.graph_to_gdfs(Graph)\n",
    "streets.head()\n",
    "\n",
    "# create networkx graph\n",
    "Graph = nx.relabel.convert_node_labels_to_integers(Graph)"
   ]
  },
  {
   "cell_type": "code",
   "execution_count": 2,
   "metadata": {},
   "outputs": [],
   "source": [
    "import networkx as nx\n",
    "from geopy.distance import geodesic\n",
    "\n",
    "import igraph as ig\n",
    "import networkx as nx\n",
    "import numpy as np\n",
    "import osmnx as ox\n",
    "\n",
    "def get_origin_destination_node(coords_origin, coords_destination):\n",
    "    # Find the nearest nodes in the graph to the specified coordinates\n",
    "    origin_node = min(Graph.nodes, key=lambda node: geodesic((Graph.nodes[node]['y'], Graph.nodes[node]['x']), coords_origin).kilometers)\n",
    "    destination_node = min(Graph.nodes, key=lambda node: geodesic((Graph.nodes[node]['y'], Graph.nodes[node]['x']), coords_destination).kilometers)\n",
    "\n",
    "    print(f\"Starting node: {origin_node}\")\n",
    "    print(f\"Destination node: {destination_node}\")\n",
    "\n",
    "    return origin_node, destination_node\n"
   ]
  },
  {
   "cell_type": "markdown",
   "metadata": {},
   "source": [
    "Random path Algorithm"
   ]
  },
  {
   "cell_type": "code",
   "execution_count": 85,
   "metadata": {},
   "outputs": [
    {
     "name": "stdout",
     "output_type": "stream",
     "text": [
      "Starting node: 4341\n",
      "Destination node: 6377\n"
     ]
    }
   ],
   "source": [
    "# Set the source and target coordinates\n",
    "start_coordinates = (38.664172, -90.259974)\n",
    "destination_coordinates = (38.625559, -90.210021) \n",
    "\n",
    "TARGET = [get_origin_destination_node(start_coordinates, destination_coordinates)]"
   ]
  },
  {
   "cell_type": "code",
   "execution_count": 99,
   "metadata": {},
   "outputs": [],
   "source": [
    "def random_exploration_path(graph, start_node, end_node):\n",
    "    current_node = start_node\n",
    "    exploration_path = [current_node]\n",
    "\n",
    "    while current_node != end_node:\n",
    "        neighbors = list(graph.neighbors(current_node))\n",
    "\n",
    "        if not neighbors:\n",
    "            # If there are no neighbors, break the loop\n",
    "            return random_exploration_path(graph, start_node, end_node)\n",
    "\n",
    "        next_node = np.random.choice(neighbors)\n",
    "        exploration_path.append(next_node)\n",
    "        current_node = next_node\n",
    "\n",
    "    return exploration_path"
   ]
  },
  {
   "cell_type": "code",
   "execution_count": 1,
   "metadata": {},
   "outputs": [
    {
     "ename": "NameError",
     "evalue": "name 'random_exploration_path' is not defined",
     "output_type": "error",
     "traceback": [
      "\u001b[0;31m---------------------------------------------------------------------------\u001b[0m",
      "\u001b[0;31mNameError\u001b[0m                                 Traceback (most recent call last)",
      "Cell \u001b[0;32mIn[1], line 1\u001b[0m\n\u001b[0;32m----> 1\u001b[0m path \u001b[38;5;241m=\u001b[39m \u001b[43mrandom_exploration_path\u001b[49m(Graph, TARGET[\u001b[38;5;241m0\u001b[39m][\u001b[38;5;241m0\u001b[39m], TARGET[\u001b[38;5;241m0\u001b[39m][\u001b[38;5;241m1\u001b[39m])\n\u001b[1;32m      3\u001b[0m ox\u001b[38;5;241m.\u001b[39mplot_graph_route(Graph, path, route_color\u001b[38;5;241m=\u001b[39m\u001b[38;5;124m'\u001b[39m\u001b[38;5;124mb\u001b[39m\u001b[38;5;124m'\u001b[39m, orig_dest_size\u001b[38;5;241m=\u001b[39m\u001b[38;5;241m200\u001b[39m, route_linewidth\u001b[38;5;241m=\u001b[39m\u001b[38;5;241m2\u001b[39m, show\u001b[38;5;241m=\u001b[39m\u001b[38;5;28;01mTrue\u001b[39;00m, node_size\u001b[38;5;241m=\u001b[39m\u001b[38;5;241m0\u001b[39m, figsize\u001b[38;5;241m=\u001b[39m(\u001b[38;5;241m20\u001b[39m,\u001b[38;5;241m20\u001b[39m))\n",
      "\u001b[0;31mNameError\u001b[0m: name 'random_exploration_path' is not defined"
     ]
    }
   ],
   "source": [
    "path = random_exploration_path(Graph, TARGET[0][0], TARGET[0][1])\n",
    "\n",
    "ox.plot_graph_route(Graph, path, route_color='b', orig_dest_size=200, route_linewidth=2, show=True, node_size=0, figsize=(20,20))"
   ]
  }
 ],
 "metadata": {
  "kernelspec": {
   "display_name": "Python 3",
   "language": "python",
   "name": "python3"
  },
  "language_info": {
   "codemirror_mode": {
    "name": "ipython",
    "version": 3
   },
   "file_extension": ".py",
   "mimetype": "text/x-python",
   "name": "python",
   "nbconvert_exporter": "python",
   "pygments_lexer": "ipython3",
   "version": "3.8.10"
  }
 },
 "nbformat": 4,
 "nbformat_minor": 2
}
